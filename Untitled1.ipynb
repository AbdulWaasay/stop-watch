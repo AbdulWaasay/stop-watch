{
 "cells": [
  {
   "cell_type": "code",
   "execution_count": 4,
   "id": "divided-giant",
   "metadata": {},
   "outputs": [],
   "source": [
    "import tkinter as tink\n",
    "count = -1\n",
    "run = False\n",
    "def var_name(mark):\n",
    "   def value():\n",
    "      if run:\n",
    "         global count\n",
    "         # Just beore starting\n",
    "         if count == -1:\n",
    "            show = \"Starting\"\n",
    "         else:\n",
    "            show = str(count)\n",
    "         mark['text'] = show\n",
    "         #Increment the count after\n",
    "         #every 1 second\n",
    "         mark.after(1000, value)\n",
    "         count += 1\n",
    "   value()\n",
    "# While Running\n",
    "def Start(mark):\n",
    "   global run\n",
    "   run = True\n",
    "   var_name(mark)\n",
    "   start['state'] = 'disabled'\n",
    "   stop['state'] = 'normal'\n",
    "   reset['state'] = 'normal'\n",
    "# While stopped\n",
    "def Stop():\n",
    "   global run\n",
    "   start['state'] = 'normal'\n",
    "   stop['state'] = 'disabled'\n",
    "   reset['state'] = 'normal'\n",
    "   run = False\n",
    "# For Reset\n",
    "def Reset(label):\n",
    "   global count\n",
    "   count = -1\n",
    "   if run == False:\n",
    "      reset['state'] = 'disabled'\n",
    "      mark['text'] = 'Welcome'\n",
    "   else:\n",
    "      mark['text'] = 'Start'\n",
    "\n",
    "base = tink.Tk()\n",
    "base.title(\"PYTHON STOPWATCH\")\n",
    "base.minsize(width=300, height=200)\n",
    "mark = tink.Label(base, text=\"Welcome\", fg=\"blue\", font=\"Times 25 bold\",bg=\"white\")\n",
    "mark.pack()\n",
    "start = tink.Button(base, text='Start',width=25, command=lambda: Start(mark))\n",
    "stop = tink.Button(base, text='Stop', width=25, state='disabled', command=Stop)\n",
    "reset = tink.Button(base, text='Reset',width=25, state='disabled', command=lambda: Reset(mark))\n",
    "start.pack()\n",
    "stop.pack()\n",
    "reset.pack()\n",
    "base.mainloop()"
   ]
  },
  {
   "cell_type": "code",
   "execution_count": null,
   "id": "prescribed-collectible",
   "metadata": {},
   "outputs": [],
   "source": []
  }
 ],
 "metadata": {
  "kernelspec": {
   "display_name": "Python 3",
   "language": "python",
   "name": "python3"
  },
  "language_info": {
   "codemirror_mode": {
    "name": "ipython",
    "version": 3
   },
   "file_extension": ".py",
   "mimetype": "text/x-python",
   "name": "python",
   "nbconvert_exporter": "python",
   "pygments_lexer": "ipython3",
   "version": "3.8.7"
  }
 },
 "nbformat": 4,
 "nbformat_minor": 5
}
